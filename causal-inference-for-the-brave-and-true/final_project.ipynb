{
 "cells": [
  {
   "cell_type": "markdown",
   "metadata": {},
   "source": [
    "I will present the follow project in two stages: \n",
    "\n",
    "First a more thereotical outline of this project and the motivation/underlying emperical structure linked to key things I learned in this course \n",
    "\n",
    "Summary statistics, make some pretty graphs showing like homeownership rates and where the area was similar to; Talk about covariates that you wanted to include. \n",
    "\n",
    "Issues in measuring the key things, like not having covariates included so overfitting, taking a year and a half so only using fresno: Next I will present a deadend path I went down plus what I learned from it: aka dealing with too much data not understanding how annoyinng having 400 treatments would be. \n",
    "\n",
    "Talk about how it was becoming too overfitted and not ever coming close to being able to prove causality so i switched gears to potentially show how this policy has no effect, as if there is one thing I have learned from math is example contridiction to disprove something is a whole lot easier. Show my evidence that it had no effect \n",
    "\n",
    "Reasons for the null effect: Pretty small policy realtive to people that are low income, not training on covariates so controls are just based on minority population, income levels and mortgage rates which isnt sufficent so potential overfitting and degregated predictive power. \n",
    "\n",
    "What I learned going forward: \n",
    "## CHOOSE SOMETHING SIMPLER GODDAMMIT\n",
    "\n"
   ]
  },
  {
   "cell_type": "markdown",
   "metadata": {},
   "source": []
  }
 ],
 "metadata": {
  "language_info": {
   "name": "python"
  }
 },
 "nbformat": 4,
 "nbformat_minor": 2
}
